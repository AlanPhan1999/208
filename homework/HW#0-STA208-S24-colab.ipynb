{
 "cells": [
  {
   "cell_type": "markdown",
   "metadata": {
    "id": "Rdk1rlsGSLQR"
   },
   "source": [
    "## **HW#0-STA208-S24: Getting Started / Warmup Exercises**"
   ]
  },
  {
   "cell_type": "markdown",
   "metadata": {
    "id": "gWMfB3c0tJ7F"
   },
   "source": [
    "## Part I: (Do not turn in)\n",
    "\n",
    "Basics of how to work with jupyter notebooks and colab.\n",
    "\n",
    "**Colab/notebooks:**\n",
    "\n",
    "- colab and google drive\n",
    "- code cells / text cells\n",
    "- save (and pin) notebooks\n",
    "- markdown\n",
    "- latex\n",
    "\n",
    "- I/O (see below; reference: https://colab.research.google.com/notebooks/io.ipynb)\n",
    "\n",
    "**Resources:**\n",
    "\n",
    "[Very basics of LATEX](https://en.wikibooks.org/wiki/LaTeX/Mathematics)\n",
    "\n",
    "[Overview of Colaboratory](https://colab.research.google.com/notebooks/basic_features_overview.ipynb)\n",
    "\n",
    "[Guide to Markdown](https://colab.research.google.com/notebooks/markdown_guide.ipynb)\n",
    "\n",
    "[Saving and loading notebooks in GitHub](https://colab.research.google.com/github/googlecolab/colabtools/blob/master/notebooks/colab-github-demo.ipynb)"
   ]
  },
  {
   "cell_type": "markdown",
   "metadata": {
    "id": "dFWPvIhOqr1k"
   },
   "source": [
    "\n",
    "\n",
    "### I/O on Colab and using bash commands (this section is also in the notebook \"lecture1\")\n",
    "\n",
    "To upload a file to Colab from a local drive, run the following code (you will be prompted to select the file);"
   ]
  },
  {
   "cell_type": "code",
   "execution_count": 1,
   "metadata": {
    "colab": {
     "base_uri": "https://localhost:8080/",
     "height": 74
    },
    "executionInfo": {
     "elapsed": 6480,
     "status": "ok",
     "timestamp": 1711988757357,
     "user": {
      "displayName": "Wolfgang Polonik",
      "userId": "04558813156671691113"
     },
     "user_tz": 420
    },
    "id": "Vp1ct5Nueukg",
    "outputId": "0637e12f-9d69-4e64-dfd3-2093382fd04d"
   },
   "outputs": [
    {
     "ename": "ModuleNotFoundError",
     "evalue": "No module named 'google'",
     "output_type": "error",
     "traceback": [
      "\u001b[1;31m---------------------------------------------------------------------------\u001b[0m",
      "\u001b[1;31mModuleNotFoundError\u001b[0m                       Traceback (most recent call last)",
      "Cell \u001b[1;32mIn[1], line 1\u001b[0m\n\u001b[1;32m----> 1\u001b[0m \u001b[38;5;28;01mfrom\u001b[39;00m \u001b[38;5;21;01mgoogle\u001b[39;00m\u001b[38;5;21;01m.\u001b[39;00m\u001b[38;5;21;01mcolab\u001b[39;00m \u001b[38;5;28;01mimport\u001b[39;00m files\n\u001b[0;32m      2\u001b[0m uploaded \u001b[38;5;241m=\u001b[39m files\u001b[38;5;241m.\u001b[39mupload()\n",
      "\u001b[1;31mModuleNotFoundError\u001b[0m: No module named 'google'"
     ]
    }
   ],
   "source": [
    "from google.colab import files\n",
    "uploaded = files.upload()\n",
    "\n",
    "# the below shows that I have imported the file \"winequality-red.csv\" (to do this click \n",
    "# on the prompt \"Choose Files\" and select from your loval machine)"
   ]
  },
  {
   "cell_type": "markdown",
   "metadata": {
    "id": "lA_mN3qZ-ZUc"
   },
   "source": [
    "- Alternatively, you can also mount your entire google drive, and then have access to all the files there; after mounting google drive there is no need to individually upload files; \n",
    "- To mount google drive, you can either click on the corresponding \"mount\" icon in the left column under 'Files', or run the next code cell, or use below code;\n",
    "- then run the subsequent code cell to load the `winequality' data\n"
   ]
  },
  {
   "cell_type": "code",
   "execution_count": null,
   "metadata": {
    "colab": {
     "base_uri": "https://localhost:8080/"
    },
    "executionInfo": {
     "elapsed": 49893,
     "status": "ok",
     "timestamp": 1711576221244,
     "user": {
      "displayName": "Wolfgang Polonik",
      "userId": "04558813156671691113"
     },
     "user_tz": 420
    },
    "id": "UjfM2zOqCzQ4",
    "outputId": "250dd6cf-08c4-41ff-816f-b8db6e928c1a"
   },
   "outputs": [
    {
     "name": "stdout",
     "output_type": "stream",
     "text": [
      "Mounted at /content/drive\n"
     ]
    }
   ],
   "source": [
    "from google.colab import drive\n",
    "drive.mount('/content/drive')"
   ]
  },
  {
   "cell_type": "code",
   "execution_count": null,
   "metadata": {
    "colab": {
     "base_uri": "https://localhost:8080/"
    },
    "executionInfo": {
     "elapsed": 150,
     "status": "ok",
     "timestamp": 1711988769120,
     "user": {
      "displayName": "Wolfgang Polonik",
      "userId": "04558813156671691113"
     },
     "user_tz": 420
    },
    "id": "zIoN-1SG7tcs",
    "outputId": "fd6ae18f-5df0-4f4d-f86b-25b8381bfba6"
   },
   "outputs": [
    {
     "name": "stdout",
     "output_type": "stream",
     "text": [
      "-rw-r--r-- 1 root root 84199 Apr  1 16:26 winequality-red.csv\n"
     ]
    }
   ],
   "source": [
    "## Lines that start with ! run a bash (shell) command\n",
    "\n",
    "# If mounting google drive, run the following to see whether the winedata file is accessible\n",
    "# !ls -l /content/drive/MyDrive/data/winequality-red.csv\n",
    "\n",
    "# if uploading the data from a local drive, run the following to see whether the winedata file is accessible\n",
    "!ls -l winequality-red.csv"
   ]
  },
  {
   "cell_type": "code",
   "execution_count": null,
   "metadata": {
    "colab": {
     "base_uri": "https://localhost:8080/"
    },
    "executionInfo": {
     "elapsed": 155,
     "status": "ok",
     "timestamp": 1711988771313,
     "user": {
      "displayName": "Wolfgang Polonik",
      "userId": "04558813156671691113"
     },
     "user_tz": 420
    },
    "id": "k1GH6-GH-78X",
    "outputId": "0a46c051-83b2-40a6-eb85-6ca2417893c0"
   },
   "outputs": [
    {
     "name": "stdout",
     "output_type": "stream",
     "text": [
      "\"fixed acidity\";\"volatile acidity\";\"citric acid\";\"residual sugar\";\"chlorides\";\"free sulfur dioxide\";\"total sulfur dioxide\";\"density\";\"pH\";\"sulphates\";\"alcohol\";\"quality\"\n",
      "7.4;0.7;0;1.9;0.076;11;34;0.9978;3.51;0.56;9.4;5\n",
      "7.8;0.88;0;2.6;0.098;25;67;0.9968;3.2;0.68;9.8;5\n",
      "7.8;0.76;0.04;2.3;0.092;15;54;0.997;3.26;0.65;9.8;5\n",
      "11.2;0.28;0.56;1.9;0.075;17;60;0.998;3.16;0.58;9.8;6\n",
      "7.4;0.7;0;1.9;0.076;11;34;0.9978;3.51;0.56;9.4;5\n",
      "7.4;0.66;0;1.8;0.075;13;40;0.9978;3.51;0.56;9.4;5\n",
      "7.9;0.6;0.06;1.6;0.069;15;59;0.9964;3.3;0.46;9.4;5\n",
      "7.3;0.65;0;1.2;0.065;15;21;0.9946;3.39;0.47;10;7\n",
      "7.8;0.58;0.02;2;0.073;9;18;0.9968;3.36;0.57;9.5;7\n"
     ]
    }
   ],
   "source": [
    "# If google drive has been mounted, run the following to see the header of the file\n",
    "# !head /content/drive/MyDrive/data/winequality-red.csv\n",
    "\n",
    "# If data file has been loaded from a local drive, run the following to see the header of the file\n",
    "!head winequality-red.csv"
   ]
  },
  {
   "cell_type": "markdown",
   "metadata": {
    "id": "WppVjgn-T_AY"
   },
   "source": [
    "\n",
    "### Review basics of python, numpy, pandas\n",
    "(official Python documentation: https://docs.python.org/3/)\n",
    "\n",
    "- lists, tuples, arrays (perhaps dictionaries, sets)\n",
    "- functions\n",
    "- if else; for loops\n",
    "- [f(a) for a in L] list comprehension (e.g. see https://www.pythoncheatsheet.org/cheatsheet/comprehensions)\n",
    "- copying vs. referencing\n",
    "- mutable - immutable (e.g. see https://realpython.com/python-mutable-vs-immutable-types/)\n",
    "\n",
    "<br>\n",
    "\n",
    "- slicing a numpy array\n",
    "- pandas dataframes (e.g. see https://pandas.pydata.org/docs/reference/frame.html)\n",
    "- slicing a pandas dataframe\n",
    "- subsetting using iloc and loc\n",
    "- subsetting using criteria\n",
    "- fit(), predict(), transform() (fit_predict(), fit_transfrom()) methods\n",
    "\n",
    "**General resources:**\n",
    "- https://www.pythoncheatsheet.org/\n",
    "- https://pandas.pydata.org/docs/reference/io.html\n",
    "\n"
   ]
  },
  {
   "cell_type": "markdown",
   "metadata": {
    "id": "4rK8MpFKvCWp"
   },
   "source": [
    "### Part II: Some Exercises (turn in for credit: due on April 10; upload as pdf to Gradescope; due Wed. April 10, 11:59pm)\n",
    "\n",
    "These exercises are meant to recall basic geometric interpretation underlying concepts from linear algebra and to get some practice in using basic numpy/python.\n",
    "\n",
    "\n",
    "1) Add a new text cell to this notebook right below the fomulation of this problem 1 (in particular, split the cell - see keyboard shortcuts in the tools dropdown menu for the command) and add your answers to this problem there. Use LATEX for writing formulas.\n",
    "\n",
    "Suppose $u$ is a $d$-dimensional vector that is normal to a hyperplane $H$. Consider the $(d \\times d)$-matrix\n",
    "\n",
    "$$U := I_d - \\frac{1}{\\|u\\|^2}uu^\\top.$$\n",
    "\n",
    "a) Show that for any $d$-dimensional vector $v$, the vector $Uv$ (matrix multiplication) lies in $H$. [HINT: Show this by using the property of a normal vector.]\n",
    "\n",
    "b) Provide a geometric interpretation of the vector $Uv$ (i.e. describe how it relates geometrically to $v$).\n",
    "\n",
    "c) With $I_d$ denoting the $(d \\times d)$ identity matrix, the matrix\n",
    "\n",
    "$$U^* := I_d - \\frac{2}{\\|u\\|^2}uu^\\top$$\n",
    "\n",
    "is called *elementary reflector* (or sometimes *Hausholder transformation*). Compare the vector $U^*v$ to $Uv$ and explain the name *elementary reflector*. [HINT: Drawing a figure for $d=2$ might help.]\n"
   ]
  },
  {
   "cell_type": "markdown",
   "metadata": {},
   "source": [
    "### 1. Answers\n",
    "#### a) \n",
    "If u is normal to a hyperplane, and Uv is a vector on the plane then <Uv,u> = 0\n",
    "\n",
    "$$(I_d - \\frac{1}{\\|u\\|^2}uu^\\top) v $$ \n",
    "distribute v\n",
    "\n",
    "$$(v - \\frac{1}{\\|u\\|^2}uu^\\top v) $$\n",
    "Note $uu^\\top$ is a projection matrix that projects onto u, $uu^\\top v$ is a scalar multiple of u\n",
    "\n",
    "$$(v - \\frac{u^\\top v}{\\|u\\|^2}u)$$\n",
    "This is a projection of v onto u because of that the equation above will lie on H because the equation is orthogonal to u\n",
    "\n",
    "#### b)\n",
    "U is a projection matrix that is orthogonal to the vector u, therefore any vector v that is linearly transformed using the matrix U (Uv) is also orthogonal to u. Given that u is orthogonal to the hyperplane H, Uv would therefore be on the hyperplane H as Uv is orthgonal to u.\n",
    "\n",
    "#### c)\n",
    "Uv is the projection of v onto the hyperplane of H. U*v is the \"reflection\" of v using Uv as the base of reflection."
   ]
  },
  {
   "cell_type": "code",
   "execution_count": null,
   "metadata": {},
   "outputs": [],
   "source": []
  },
  {
   "cell_type": "code",
   "execution_count": 2,
   "metadata": {},
   "outputs": [
    {
     "data": {
      "image/png": "[encoded data removed]",
      "text/plain": [
       "<Figure size 640x480 with 1 Axes>"
      ]
     },
     "metadata": {},
     "output_type": "display_data"
    }
   ],
   "source": [
    "import numpy as np\n",
    "import matplotlib.pyplot as plt\n",
    "def arrow(origin, vector, c, l):\n",
    "    return plt.arrow(origin[0], origin[1], vector[0], vector[1], color=c, label=l, head_width=0.2, head_length=0.2)\n",
    "\n",
    "\n",
    "#Create all needed vectors\n",
    "u = np.array([1,2])\n",
    "v = np.array([-1,4])\n",
    "U = np.eye(2) - np.outer(u,u)/(np.linalg.norm(u)**2)\n",
    "U_star = np.eye(2) - 2* np.outer(u,u)/(np.linalg.norm(u)**2)\n",
    "Uv = U.dot(v)\n",
    "U_star_v = U_star.dot(v)\n",
    "proj = np.outer(u,u).dot(v)/(np.linalg.norm(u)**2)\n",
    "min_proj = -1 * proj\n",
    "#set up H hyperplane\n",
    "x = np.linspace(-10,10,100)\n",
    "y = -0.5*x\n",
    "\n",
    "u_span = [x*u[0], x*u[1]]\n",
    "#Create graph\n",
    "origin = np.array([0,0])\n",
    "\n",
    "u_vector = arrow(origin, u, 'black', 'u vector')\n",
    "v_vector = arrow(origin, v, 'blue', 'v vector')\n",
    "Uv_vector = arrow(origin, Uv, 'red', 'Uv vector')\n",
    "U_star_v_vector = arrow(origin, U_star_v, 'orange', 'U*v vector')\n",
    "proj_vector = arrow(origin, proj, 'green', 'Projection V onto U')\n",
    "reflect = arrow(U_star_v, proj, \"indigo\", \"U*v + projection\")\n",
    "non_reflect = arrow(v, min_proj, 'violet', 'Uv - projection')\n",
    "Uv_USv = arrow(Uv, -1 * U_star_v, 'cyan', 'Uv - U*v')\n",
    "v_USv = arrow(v, -1*U_star_v, 'cyan','')\n",
    "plt.plot(x, y, color='gray', linestyle = '--', label=\"H hyperplane\")\n",
    "plt.plot(u_span[0], u_span[1], color='gray', linestyle='--', label='u span')\n",
    "plt.axhline(0,color='black', linewidth=0.5)\n",
    "plt.axvline(0, color='black', linewidth=0.5)\n",
    "plt.grid(color='gray', linewidth=0.5)\n",
    "plt.legend(handles=[u_vector, v_vector, Uv_vector, U_star_v_vector, proj_vector, reflect, non_reflect, Uv_USv], loc='lower right')\n",
    "plt.xlim(-10,10)\n",
    "plt.ylim(-10,10)\n",
    "plt.show()"
   ]
  },
  {
   "cell_type": "markdown",
   "metadata": {
    "id": "PVr5gTextkv6"
   },
   "source": [
    "2) Use numpy to do the computations in this problem. To this end, use this notebook, add a code cell right below the formulation of this problem and put your solutions there.\n",
    "\n",
    "a) Define $u = (1,2,3,3,2,1)$, $v = (1,2,3,4,5,6).$\n",
    "- Compute the matrix $U = I - \\frac{1}{\\|u\\|^2}uu^\\top$ and find $Uv$ (print both, the matrix $U$ and the vector $Uv$)\n",
    "- Compute $U^* = I - \\frac{2}{\\|u\\|^2}uu^\\top$ and find $U^*v$ (print both, the matrix $U^*$ and the vector $U^*v$).\n",
    "\n",
    "b)  Consider the real value\n",
    "$\\alpha = \\frac{\\langle u, Uv-U^*v\\rangle}{\\|u\\|\\cdot\\|Uv - U^*v\\|}.$\n",
    "- Make a conjecture of what the value of $\\alpha$ is (use your geometric intuition - again, drawing a figure in $d=2$ should help).\n",
    "- Compute $\\alpha$, and explain the value you obtain.\n"
   ]
  },
  {
   "cell_type": "code",
   "execution_count": 3,
   "metadata": {},
   "outputs": [
    {
     "name": "stdout",
     "output_type": "stream",
     "text": [
      "U = [[ 0.96428571 -0.07142857 -0.10714286 -0.10714286 -0.07142857 -0.03571429]\n",
      " [-0.07142857  0.85714286 -0.21428571 -0.21428571 -0.14285714 -0.07142857]\n",
      " [-0.10714286 -0.21428571  0.67857143 -0.32142857 -0.21428571 -0.10714286]\n",
      " [-0.10714286 -0.21428571 -0.32142857  0.67857143 -0.21428571 -0.10714286]\n",
      " [-0.07142857 -0.14285714 -0.21428571 -0.21428571  0.85714286 -0.07142857]\n",
      " [-0.03571429 -0.07142857 -0.10714286 -0.10714286 -0.07142857  0.96428571]] and Uv = [-0.5 -1.  -1.5 -0.5  2.   4.5]\n",
      "U* = [[ 0.92857143 -0.14285714 -0.21428571 -0.21428571 -0.14285714 -0.07142857]\n",
      " [-0.14285714  0.71428571 -0.42857143 -0.42857143 -0.28571429 -0.14285714]\n",
      " [-0.21428571 -0.42857143  0.35714286 -0.64285714 -0.42857143 -0.21428571]\n",
      " [-0.21428571 -0.42857143 -0.64285714  0.35714286 -0.42857143 -0.21428571]\n",
      " [-0.14285714 -0.28571429 -0.42857143 -0.42857143  0.71428571 -0.14285714]\n",
      " [-0.07142857 -0.14285714 -0.21428571 -0.21428571 -0.14285714  0.92857143]] and U*v = [-2. -4. -6. -5. -1.  3.]\n"
     ]
    }
   ],
   "source": [
    "u = np.array([1,2,3,3,2,1])\n",
    "v = np.array([1,2,3,4,5,6])\n",
    "\n",
    "U = np.eye(6) - np.outer(u,u)/np.linalg.norm(u)**2\n",
    "Uv = U.dot(v)\n",
    "print(f\"U = {U} and Uv = {Uv}\")\n",
    "U_star = np.eye(6) - 2*(np.outer(u,u)/np.linalg.norm(u)**2)\n",
    "USv = U_star.dot(v)\n",
    "print(f\"U* = {U_star} and U*v = {USv}\")"
   ]
  },
  {
   "cell_type": "markdown",
   "metadata": {},
   "source": [
    "considering the real value $\\alpha = \\frac{<u,Uv-U*v>}{||u||*||Uv-U*v||}$\n",
    "\n",
    "since a = Uv-U*v lies on u, the formula alpha most likely is 1"
   ]
  },
  {
   "cell_type": "code",
   "execution_count": 4,
   "metadata": {},
   "outputs": [
    {
     "name": "stdout",
     "output_type": "stream",
     "text": [
      "alpha = 1.0\n"
     ]
    }
   ],
   "source": [
    "s = Uv-USv\n",
    "alpha = u.dot(s)/(np.linalg.norm(u)*np.linalg.norm(s))\n",
    "print(f\"alpha = {alpha}\")"
   ]
  },
  {
   "cell_type": "markdown",
   "metadata": {
    "id": "Xnd0M6TYiATk"
   },
   "source": [
    "3) Consider the matrix $UU^\\top$ with $U$ from above. We are now concerned about the eigenvalues of $UU^\\top$.\n",
    "\n",
    "- Make a conjecture about the values of the eigenvalues of $UU^\\top$ (positive, negative, zero, certain specific values??).\n",
    "\n",
    "- Compute the eigenvalues using numpy and iterprete the values that you find.\n",
    "\n",
    "- Explain why $UU^\\top = UU = U$, i.e. $U$ is idempotent.\n",
    "\n",
    "- Let $V$ be the $(6 \\times 3)$-matrix consisting of the first three columns of $U$. Is $V$ also idempotent? Explain."
   ]
  },
  {
   "cell_type": "markdown",
   "metadata": {},
   "source": [
    "The eigenvalues of $UU^T$ is most likely either 0 or positive because $UU^T$ is positive semi-definite"
   ]
  },
  {
   "cell_type": "code",
   "execution_count": 5,
   "metadata": {},
   "outputs": [
    {
     "data": {
      "text/plain": [
       "array([[1.00000000e+00, 0.00000000e+00, 0.00000000e+00, 0.00000000e+00,\n",
       "        0.00000000e+00, 0.00000000e+00],\n",
       "       [0.00000000e+00, 3.05321739e-17, 0.00000000e+00, 0.00000000e+00,\n",
       "        0.00000000e+00, 0.00000000e+00],\n",
       "       [0.00000000e+00, 0.00000000e+00, 1.00000000e+00, 0.00000000e+00,\n",
       "        0.00000000e+00, 0.00000000e+00],\n",
       "       [0.00000000e+00, 0.00000000e+00, 0.00000000e+00, 1.00000000e+00,\n",
       "        0.00000000e+00, 0.00000000e+00],\n",
       "       [0.00000000e+00, 0.00000000e+00, 0.00000000e+00, 0.00000000e+00,\n",
       "        1.00000000e+00, 0.00000000e+00],\n",
       "       [0.00000000e+00, 0.00000000e+00, 0.00000000e+00, 0.00000000e+00,\n",
       "        0.00000000e+00, 1.00000000e+00]])"
      ]
     },
     "execution_count": 5,
     "metadata": {},
     "output_type": "execute_result"
    }
   ],
   "source": [
    "UUt = np.matmul(U, (np.transpose(U)))\n",
    "ev = np.linalg.eigvals(UUt)\n",
    "ev * np.eye(6)"
   ]
  },
  {
   "cell_type": "markdown",
   "metadata": {},
   "source": [
    "$$U = I - \\frac{1}{\\|u\\|^2}uu^\\top$$\n",
    "$$UU^\\top = (I - \\frac{1}{\\|u\\|^2}uu^\\top)(I - \\frac{1}{\\|u\\|^2}uu^\\top)^\\top$$\n",
    "$$UU^\\top = (I - \\frac{1}{\\|u\\|^2}uu^\\top)(I - \\frac{1}{\\|u\\|^2}uu^\\top) $$\n",
    "$$UU^\\top = I - \\frac{2}{\\|u\\|^2}uu^\\top + \\frac{1}{\\|u\\|^2}uu^\\top $$\n",
    "$$UU^\\top = I - \\frac{1}{\\|u\\|^2}uu^\\top$$\n",
    "Recall $U = I - \\frac{1}{\\|u\\|^2}uu^\\top$ and since $U^\\top = U$, \n",
    "$$UU^\\top = UU = U$$"
   ]
  },
  {
   "cell_type": "markdown",
   "metadata": {},
   "source": [
    "By definition, an idempotent matrix must be a square matrix, therefore since V is (6X3) which is not a square matrix, it is not idempotent."
   ]
  },
  {
   "cell_type": "markdown",
   "metadata": {
    "id": "Eh5vxaTPinBn"
   },
   "source": [
    "4) Some numpy practice: With $U = (U_{ij})_{i,j=1,\\ldots,6}$ from above do the following:\n",
    "\n",
    "- Find the largest and smallest off-diagonal elements of $UU^\\top$.\n",
    "\n",
    "- Find the largest and smallest diagonal elements of $UU^\\top$.\n",
    "\n",
    "- Compute the value $max_i \\sum_{j} |U_{ij}|$.\n",
    "\n",
    "- Print the elements of the second column of $UU^\\top$ below the diagonal.\n",
    "\n",
    "- Verify idempotence of $U$ by showing that $UU - U = 0$ (where the $0$ on the right hand side is the $0$-matrix).\n",
    "\n",
    "\n"
   ]
  },
  {
   "cell_type": "code",
   "execution_count": 21,
   "metadata": {},
   "outputs": [
    {
     "name": "stdout",
     "output_type": "stream",
     "text": [
      "The maximum off-diagonal element of UUt is -0.03571428571428572\n",
      "The minimum off-diagonal element of UUt is -0.32142857142857145\n",
      "The maximum diagonal element of UUt is 0.9642857142857143\n",
      "The minimum diagonal element of UUt is 0.6785714285714285\n",
      "The max row sum in the matrix is 1.6428571428571428\n",
      "The elements of the second column of UUt below the diagonal are [-0.21428571 -0.21428571 -0.14285714 -0.07142857]\n",
      "The matrix UU - U = [[ 1.11022302e-16 -2.77555756e-17 -2.77555756e-17 -1.38777878e-17\n",
      "  -2.77555756e-17 -1.38777878e-17]\n",
      " [-2.77555756e-17  0.00000000e+00 -5.55111512e-17 -5.55111512e-17\n",
      "  -5.55111512e-17 -2.77555756e-17]\n",
      " [-2.77555756e-17 -5.55111512e-17 -1.11022302e-16  0.00000000e+00\n",
      "  -5.55111512e-17  0.00000000e+00]\n",
      " [-1.38777878e-17 -5.55111512e-17  0.00000000e+00  0.00000000e+00\n",
      "  -5.55111512e-17 -2.77555756e-17]\n",
      " [-2.77555756e-17 -5.55111512e-17  0.00000000e+00  0.00000000e+00\n",
      "   0.00000000e+00 -1.38777878e-17]\n",
      " [-6.93889390e-18 -1.38777878e-17  1.38777878e-17  0.00000000e+00\n",
      "  -1.38777878e-17  0.00000000e+00]]\n"
     ]
    }
   ],
   "source": [
    "#Since UU^T is symmetric, we only need to look at the upper triangle for the off-diagonal elements\n",
    "off_diag = UUt[np.triu_indices(len(UUt), k=1)]\n",
    "max_off = np.max(off_diag)\n",
    "min_off = np.min(off_diag)\n",
    "\n",
    "print(f\"The maximum off-diagonal element of UUt is {max_off}\")\n",
    "print(f\"The minimum off-diagonal element of UUt is {min_off}\")\n",
    "\n",
    "#Get the diagonal elements\n",
    "diag = np.diag(UUt)\n",
    "max_diag = np.max(diag)\n",
    "min_diag = np.min(diag)\n",
    "\n",
    "print(f\"The maximum diagonal element of UUt is {max_diag}\")\n",
    "print(f\"The minimum diagonal element of UUt is {min_diag}\")\n",
    "\n",
    "#Compute max of the sum of the rows\n",
    "max_row = np.max(np.sum(abs(UUt), axis=0))\n",
    "print(f\"The max row sum in the matrix is {max_row}\")\n",
    "\n",
    "#Get the elements of the second column of UUt below the diagonal\n",
    "print(f\"The elements of the second column of UUt below the diagonal are {UUt[2:,1]}\")\n",
    "\n",
    "\n",
    "print(f\"The matrix UU - U = {np.matmul(U,U) - U}\")"
   ]
  }
 ],
 "metadata": {
  "colab": {
   "provenance": []
  },
  "kernelspec": {
   "display_name": "Python 3 (ipykernel)",
   "language": "python",
   "name": "python3"
  },
  "language_info": {
   "codemirror_mode": {
    "name": "ipython",
    "version": 3
   },
   "file_extension": ".py",
   "mimetype": "text/x-python",
   "name": "python",
   "nbconvert_exporter": "python",
   "pygments_lexer": "ipython3",
   "version": "3.11.5"
  }
 },
 "nbformat": 4,
 "nbformat_minor": 1
}
